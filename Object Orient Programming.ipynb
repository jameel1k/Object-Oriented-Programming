{
 "cells": [
  {
   "cell_type": "code",
   "execution_count": null,
   "id": "3869a81e",
   "metadata": {},
   "outputs": [],
   "source": [
    "#OOP object oriented programming\n",
    "\n",
    "#We have a coin making factory, 1p 10p and 1 pound coin. The factory uses a template to make the coins. \n",
    "#Each of those templates is called a class. A class gives us an object. \n",
    "#Imagine that template in a factory that repeatedly makes the same coins again and again. \n",
    "#That template is a class and the object that comes from it, is an instance of that class. \n",
    "\n",
    "#Every object is a physical copy (also known as an instance) of a class. \n",
    "\n",
    "#This is the core principle of object oriented programming. \n",
    "\n",
    "#What makes up classes?\n",
    "#Classes are simply made up of variables. Also known as states. \n",
    "#And functions are known as methods. \n",
    "\n",
    "#Each variable type in Python has it's own unique class. \n",
    "\n",
    "#For our example a coin's state will be it's value, colour, number of edges, diameter, thickness etc. \n",
    "\n",
    "#Our coin methods will be that you can flip the coin, we can create a function /method called flip. This method will then change\n",
    "#the coins state to be heads or tails randomly. \n",
    "\n",
    "#In this way by using variables and methods, we can represent the states and behaviors of a real life coin in a class. \n",
    "\n",
    "#Recap: \n",
    "#-Classes are simply templates. \n",
    "#-An onject is an instance of a class, e.g each 50p coin is a result of using a 50p coin class\n",
    "#-Objects in the real world have states and methods / behaviors \n",
    "#-becuase classes make objects, classes are made up of states and behaviours as well.\n",
    "#-To create states, we use class variables, and to create behaviours, we just use methods.\n",
    "#-And by the way methods are exactly the same as functions we just call them methods when referring to classes\n"
   ]
  },
  {
   "cell_type": "code",
   "execution_count": null,
   "id": "feac6819",
   "metadata": {},
   "outputs": [],
   "source": []
  }
 ],
 "metadata": {
  "kernelspec": {
   "display_name": "Python 3 (ipykernel)",
   "language": "python",
   "name": "python3"
  },
  "language_info": {
   "codemirror_mode": {
    "name": "ipython",
    "version": 3
   },
   "file_extension": ".py",
   "mimetype": "text/x-python",
   "name": "python",
   "nbconvert_exporter": "python",
   "pygments_lexer": "ipython3",
   "version": "3.9.12"
  }
 },
 "nbformat": 4,
 "nbformat_minor": 5
}
