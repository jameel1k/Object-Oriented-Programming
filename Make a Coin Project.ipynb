{
 "cells": [
  {
   "cell_type": "code",
   "execution_count": 1,
   "id": "54c58b3a",
   "metadata": {},
   "outputs": [
    {
     "name": "stdout",
     "output_type": "stream",
     "text": [
      "<class '__main__.Pound'>\n"
     ]
    }
   ],
   "source": [
    "#Print your own money\n",
    "#Make a coin object using a class\n",
    "#First I'll make a class, using the class keyword, we will have 6 states inside our class, which will define our coin. \n",
    "\n",
    "class Pound:\n",
    "    \n",
    "    value = 1.00\n",
    "    colour = \"gold\"\n",
    "    num_edges = 1\n",
    "    diameter = 22.5 #mm\n",
    "    thickness = 3.15 #mm\n",
    "    heads = True\n",
    "    \n",
    "\n",
    "coin1 = Pound()    \n",
    "\n",
    "print(type(coin1))\n",
    "\n",
    "\n"
   ]
  },
  {
   "cell_type": "code",
   "execution_count": 2,
   "id": "07af734e",
   "metadata": {},
   "outputs": [
    {
     "name": "stdout",
     "output_type": "stream",
     "text": [
      "1.0\n"
     ]
    }
   ],
   "source": [
    "#We have now made a variable type, a class. \n",
    "\n",
    "#How do we access the states?\n",
    "\n",
    "class Pound:\n",
    "    \n",
    "    value = 1.00\n",
    "    colour = \"gold\"\n",
    "    num_edges = 1\n",
    "    diameter = 22.5 #mm\n",
    "    thickness = 3.15 #mm\n",
    "    heads = True\n",
    "    \n",
    "\n",
    "coin1 = Pound()    \n",
    "print(coin1.value)\n",
    "\n"
   ]
  },
  {
   "cell_type": "code",
   "execution_count": 3,
   "id": "7bbf66e0",
   "metadata": {},
   "outputs": [
    {
     "data": {
      "text/plain": [
       "'gold'"
      ]
     },
     "execution_count": 3,
     "metadata": {},
     "output_type": "execute_result"
    }
   ],
   "source": [
    "coin1.colour"
   ]
  },
  {
   "cell_type": "code",
   "execution_count": 4,
   "id": "ffc9e7ce",
   "metadata": {},
   "outputs": [],
   "source": [
    "#What if we need to change the values?\n",
    "#Change the value colour\n",
    "\n",
    "coin1.colour = \"green\""
   ]
  },
  {
   "cell_type": "code",
   "execution_count": 5,
   "id": "b34260e1",
   "metadata": {},
   "outputs": [
    {
     "data": {
      "text/plain": [
       "'green'"
      ]
     },
     "execution_count": 5,
     "metadata": {},
     "output_type": "execute_result"
    }
   ],
   "source": [
    "coin1.colour"
   ]
  },
  {
   "cell_type": "code",
   "execution_count": 6,
   "id": "7388ee68",
   "metadata": {},
   "outputs": [
    {
     "name": "stdout",
     "output_type": "stream",
     "text": [
      "green\n"
     ]
    }
   ],
   "source": [
    "#Create another coin:\n",
    "\n",
    "coin2 = Pound()\n",
    "print(coin1.colour)\n"
   ]
  },
  {
   "cell_type": "code",
   "execution_count": 7,
   "id": "6209c8a5",
   "metadata": {},
   "outputs": [
    {
     "name": "stdout",
     "output_type": "stream",
     "text": [
      "gold\n"
     ]
    }
   ],
   "source": [
    "print(coin2.colour)"
   ]
  },
  {
   "cell_type": "code",
   "execution_count": null,
   "id": "5cbb1650",
   "metadata": {},
   "outputs": [],
   "source": [
    "#Coin 2 still comes back as gold, classes are the base template \n",
    "#Once an object has been made each object can have its own unique characteristics depending on what you\n",
    "#do with it and is independent of other objects from the same class."
   ]
  },
  {
   "cell_type": "code",
   "execution_count": 8,
   "id": "a25990bc",
   "metadata": {},
   "outputs": [
    {
     "data": {
      "text/plain": [
       "1.25"
      ]
     },
     "execution_count": 8,
     "metadata": {},
     "output_type": "execute_result"
    }
   ],
   "source": [
    "#Let's change the value of the coins\n",
    "\n",
    "coin1.value = 1.25\n",
    "coin1.value"
   ]
  },
  {
   "cell_type": "code",
   "execution_count": 9,
   "id": "6312274e",
   "metadata": {},
   "outputs": [
    {
     "data": {
      "text/plain": [
       "1.0"
      ]
     },
     "execution_count": 9,
     "metadata": {},
     "output_type": "execute_result"
    }
   ],
   "source": [
    "coin2.value"
   ]
  },
  {
   "cell_type": "code",
   "execution_count": null,
   "id": "65176bbd",
   "metadata": {},
   "outputs": [],
   "source": [
    "#Coin 1 and coin two came from exactly the same class. But now as objects they can behave independently."
   ]
  },
  {
   "cell_type": "code",
   "execution_count": 10,
   "id": "7016eb1b",
   "metadata": {},
   "outputs": [],
   "source": [
    "#Now I will look at the class methods:\n",
    "#So at the moment we have a very basic class. All it has is a few states and we want to create some class methods.\n",
    "#So to do this we're going to need a constructor and in Python the constructor is defined like this.\n",
    "#You type D E F for defined just like you would with any other function\n",
    "\n",
    "#Well Self is what we use to refer to a specific instance of this class when we write the class code.\n",
    "\n",
    "class Pound:\n",
    "    \n",
    "    def __init__(self, rare=False):\n",
    "            \n",
    "            self.rare=rare\n",
    "            \n",
    "            if self.rare:\n",
    "                self.value = 1.25\n",
    "            else:\n",
    "                self.value = 1.00\n",
    "            \n",
    "            self.colour = \"gold\"\n",
    "            self.num_edges = 1\n",
    "            self.diameter = 22.5 #mm\n",
    "            self.thickness = 3.15 #mm\n",
    "            self.heads = True"
   ]
  },
  {
   "cell_type": "code",
   "execution_count": 11,
   "id": "6da8d6fc",
   "metadata": {},
   "outputs": [
    {
     "data": {
      "text/plain": [
       "True"
      ]
     },
     "execution_count": 11,
     "metadata": {},
     "output_type": "execute_result"
    }
   ],
   "source": [
    "coin1= Pound(rare=True)\n",
    "coin2= Pound()\n",
    "coin1.rare"
   ]
  },
  {
   "cell_type": "code",
   "execution_count": 12,
   "id": "7a64c381",
   "metadata": {},
   "outputs": [
    {
     "data": {
      "text/plain": [
       "False"
      ]
     },
     "execution_count": 12,
     "metadata": {},
     "output_type": "execute_result"
    }
   ],
   "source": [
    "coin2.rare"
   ]
  },
  {
   "cell_type": "code",
   "execution_count": 13,
   "id": "56a0ccfa",
   "metadata": {},
   "outputs": [
    {
     "data": {
      "text/plain": [
       "1.25"
      ]
     },
     "execution_count": 13,
     "metadata": {},
     "output_type": "execute_result"
    }
   ],
   "source": [
    "coin1.value"
   ]
  },
  {
   "cell_type": "code",
   "execution_count": 14,
   "id": "3347b6e1",
   "metadata": {},
   "outputs": [
    {
     "data": {
      "text/plain": [
       "1.0"
      ]
     },
     "execution_count": 14,
     "metadata": {},
     "output_type": "execute_result"
    }
   ],
   "source": [
    "coin2.value"
   ]
  },
  {
   "cell_type": "code",
   "execution_count": 15,
   "id": "e181c5b0",
   "metadata": {},
   "outputs": [],
   "source": [
    "#we want a method that's going to make our coin rust.\n",
    "#So to create a method we need to be inside the class.\n",
    "\n",
    "class Pound:\n",
    "    \n",
    "    def __init__(self, rare=False):\n",
    "            \n",
    "            self.rare=rare\n",
    "            \n",
    "            if self.rare:\n",
    "                self.value = 1.25\n",
    "            else:\n",
    "                self.value = 1.00\n",
    "            \n",
    "            self.colour = \"gold\"\n",
    "            self.num_edges = 1\n",
    "            self.diameter = 22.5 #mm\n",
    "            self.thickness = 3.15 #mm\n",
    "            self.heads = True\n",
    "    \n",
    "    def rust(self):\n",
    "        self.colour = \"greenish\""
   ]
  },
  {
   "cell_type": "code",
   "execution_count": 16,
   "id": "707293e4",
   "metadata": {},
   "outputs": [
    {
     "data": {
      "text/plain": [
       "'gold'"
      ]
     },
     "execution_count": 16,
     "metadata": {},
     "output_type": "execute_result"
    }
   ],
   "source": [
    "coin1= Pound()\n",
    "coin2= Pound()\n",
    "coin1.colour"
   ]
  },
  {
   "cell_type": "code",
   "execution_count": 17,
   "id": "1bc6a458",
   "metadata": {},
   "outputs": [
    {
     "data": {
      "text/plain": [
       "'gold'"
      ]
     },
     "execution_count": 17,
     "metadata": {},
     "output_type": "execute_result"
    }
   ],
   "source": [
    "coin2.colour"
   ]
  },
  {
   "cell_type": "code",
   "execution_count": 18,
   "id": "0a5af1c1",
   "metadata": {},
   "outputs": [
    {
     "data": {
      "text/plain": [
       "'greenish'"
      ]
     },
     "execution_count": 18,
     "metadata": {},
     "output_type": "execute_result"
    }
   ],
   "source": [
    "#rust coin 1\n",
    "\n",
    "coin1.rust()\n",
    "coin1.colour"
   ]
  },
  {
   "cell_type": "code",
   "execution_count": 19,
   "id": "d8c0b3ee",
   "metadata": {},
   "outputs": [
    {
     "data": {
      "text/plain": [
       "'gold'"
      ]
     },
     "execution_count": 19,
     "metadata": {},
     "output_type": "execute_result"
    }
   ],
   "source": [
    "coin2.colour"
   ]
  },
  {
   "cell_type": "code",
   "execution_count": 27,
   "id": "8b456bc4",
   "metadata": {},
   "outputs": [],
   "source": [
    "#Coin1 has rusted and coin2 is still gold. \n",
    "#Now I want a method which will clean our coins from rust\n",
    "\n",
    "class Pound:\n",
    "    \n",
    "    def __init__(self, rare=False):\n",
    "            \n",
    "            self.rare=rare\n",
    "            \n",
    "            if self.rare:\n",
    "                self.value = 1.25\n",
    "            else:\n",
    "                self.value = 1.00\n",
    "            \n",
    "            self.colour = \"gold\"\n",
    "            self.num_edges = 1\n",
    "            self.diameter = 22.5 #mm\n",
    "            self.thickness = 3.15 #mm\n",
    "            self.heads = True\n",
    "    \n",
    "    def rust(self):\n",
    "        self.colour = \"greenish\"\n",
    "    \n",
    "    def clean(self):\n",
    "        self.colour = \"gold\"\n"
   ]
  },
  {
   "cell_type": "code",
   "execution_count": 21,
   "id": "c3744895",
   "metadata": {},
   "outputs": [
    {
     "data": {
      "text/plain": [
       "'greenish'"
      ]
     },
     "execution_count": 21,
     "metadata": {},
     "output_type": "execute_result"
    }
   ],
   "source": [
    "coin1= Pound()\n",
    "coin1.rust()\n",
    "coin1.colour"
   ]
  },
  {
   "cell_type": "code",
   "execution_count": 30,
   "id": "28c74f20",
   "metadata": {},
   "outputs": [
    {
     "data": {
      "text/plain": [
       "'gold'"
      ]
     },
     "execution_count": 30,
     "metadata": {},
     "output_type": "execute_result"
    }
   ],
   "source": [
    "coin1= Pound()\n",
    "coin1.clean()\n",
    "coin1.colour"
   ]
  },
  {
   "cell_type": "code",
   "execution_count": null,
   "id": "a4dacc22",
   "metadata": {},
   "outputs": [],
   "source": [
    "#This shows that our clean method is working."
   ]
  },
  {
   "cell_type": "code",
   "execution_count": 32,
   "id": "244a9148",
   "metadata": {},
   "outputs": [],
   "source": [
    "#Now I want to make my coin flip randomly, just like you flip a coin\n",
    "\n",
    "import random\n",
    "\n",
    "class Pound:\n",
    "    \n",
    "    def __init__(self, rare=False):\n",
    "            \n",
    "            self.rare=rare\n",
    "            \n",
    "            if self.rare:\n",
    "                self.value = 1.25\n",
    "            else:\n",
    "                self.value = 1.00\n",
    "            \n",
    "            self.colour = \"gold\"\n",
    "            self.num_edges = 1\n",
    "            self.diameter = 22.5 #mm\n",
    "            self.thickness = 3.15 #mm\n",
    "            self.heads = True\n",
    "    \n",
    "    def rust(self):\n",
    "        self.colour = \"greenish\"\n",
    "    \n",
    "    def clean(self):\n",
    "        self.colour = \"gold\"\n",
    "    \n",
    "    def flip(self):\n",
    "        heads_options = [True, False]\n",
    "        choice = random.choice(heads_options)\n",
    "        self.heads = choice\n",
    "    "
   ]
  },
  {
   "cell_type": "code",
   "execution_count": 33,
   "id": "c655b9b4",
   "metadata": {},
   "outputs": [
    {
     "data": {
      "text/plain": [
       "True"
      ]
     },
     "execution_count": 33,
     "metadata": {},
     "output_type": "execute_result"
    }
   ],
   "source": [
    "coin1= Pound()\n",
    "coin1.heads"
   ]
  },
  {
   "cell_type": "code",
   "execution_count": 34,
   "id": "fe492d56",
   "metadata": {},
   "outputs": [
    {
     "data": {
      "text/plain": [
       "False"
      ]
     },
     "execution_count": 34,
     "metadata": {},
     "output_type": "execute_result"
    }
   ],
   "source": [
    "coin1.flip()\n",
    "coin1.heads"
   ]
  },
  {
   "cell_type": "code",
   "execution_count": 36,
   "id": "64c6dcd8",
   "metadata": {},
   "outputs": [
    {
     "data": {
      "text/plain": [
       "False"
      ]
     },
     "execution_count": 36,
     "metadata": {},
     "output_type": "execute_result"
    }
   ],
   "source": [
    "coin1.flip()\n",
    "coin1.heads"
   ]
  },
  {
   "cell_type": "code",
   "execution_count": 37,
   "id": "c24d329c",
   "metadata": {},
   "outputs": [
    {
     "data": {
      "text/plain": [
       "False"
      ]
     },
     "execution_count": 37,
     "metadata": {},
     "output_type": "execute_result"
    }
   ],
   "source": [
    "coin1.flip()\n",
    "coin1.heads"
   ]
  },
  {
   "cell_type": "code",
   "execution_count": 38,
   "id": "89d84ed9",
   "metadata": {},
   "outputs": [
    {
     "data": {
      "text/plain": [
       "False"
      ]
     },
     "execution_count": 38,
     "metadata": {},
     "output_type": "execute_result"
    }
   ],
   "source": [
    "coin1.flip()\n",
    "coin1.heads"
   ]
  },
  {
   "cell_type": "code",
   "execution_count": 39,
   "id": "592643a9",
   "metadata": {},
   "outputs": [],
   "source": [
    "#Now I want to be able to spend our coin\n",
    "#Were going to need to use a destructor method a destructor is called automatically when our\n",
    "#program finishes and is used to destroy an object and the python destructor _ _del_ _\n",
    "\n",
    "import random\n",
    "\n",
    "class Pound:\n",
    "    \n",
    "    def __init__(self, rare=False):\n",
    "            \n",
    "            self.rare=rare\n",
    "            \n",
    "            if self.rare:\n",
    "                self.value = 1.25\n",
    "            else:\n",
    "                self.value = 1.00\n",
    "            \n",
    "            self.colour = \"gold\"\n",
    "            self.num_edges = 1\n",
    "            self.diameter = 22.5 #mm\n",
    "            self.thickness = 3.15 #mm\n",
    "            self.heads = True\n",
    "    \n",
    "    def rust(self):\n",
    "        self.colour = \"greenish\"\n",
    "    \n",
    "    def clean(self):\n",
    "        self.colour = \"gold\"\n",
    "    \n",
    "    def flip(self):\n",
    "        heads_options = [True, False]\n",
    "        choice = random.choice(heads_options)\n",
    "        self.heads = choice\n",
    "    \n",
    "    def __del__(self):\n",
    "        print(\"Coin Spent!\")\n",
    "        "
   ]
  },
  {
   "cell_type": "code",
   "execution_count": 40,
   "id": "6129ee1a",
   "metadata": {},
   "outputs": [
    {
     "name": "stdout",
     "output_type": "stream",
     "text": [
      "Coin Spent!\n"
     ]
    }
   ],
   "source": [
    "coin1= Pound()\n",
    "del coin1"
   ]
  },
  {
   "cell_type": "code",
   "execution_count": 41,
   "id": "bff6ef5d",
   "metadata": {},
   "outputs": [
    {
     "name": "stdout",
     "output_type": "stream",
     "text": [
      "Coin Spent!\n"
     ]
    }
   ],
   "source": [
    "coin2= Pound()\n",
    "coin2.flip()\n",
    "del coin2"
   ]
  },
  {
   "cell_type": "code",
   "execution_count": 42,
   "id": "4c90b45e",
   "metadata": {},
   "outputs": [
    {
     "ename": "NameError",
     "evalue": "name 'coin1' is not defined",
     "output_type": "error",
     "traceback": [
      "\u001b[1;31m---------------------------------------------------------------------------\u001b[0m",
      "\u001b[1;31mNameError\u001b[0m                                 Traceback (most recent call last)",
      "Input \u001b[1;32mIn [42]\u001b[0m, in \u001b[0;36m<cell line: 1>\u001b[1;34m()\u001b[0m\n\u001b[1;32m----> 1\u001b[0m \u001b[43mcoin1\u001b[49m\n",
      "\u001b[1;31mNameError\u001b[0m: name 'coin1' is not defined"
     ]
    }
   ],
   "source": [
    "coin1"
   ]
  },
  {
   "cell_type": "code",
   "execution_count": null,
   "id": "c858fb6b",
   "metadata": {},
   "outputs": [],
   "source": [
    "#This shows that coin 1 has now been spent, as it's no longer defined. "
   ]
  },
  {
   "cell_type": "code",
   "execution_count": 43,
   "id": "da19da8d",
   "metadata": {},
   "outputs": [
    {
     "ename": "NameError",
     "evalue": "name 'coin2' is not defined",
     "output_type": "error",
     "traceback": [
      "\u001b[1;31m---------------------------------------------------------------------------\u001b[0m",
      "\u001b[1;31mNameError\u001b[0m                                 Traceback (most recent call last)",
      "Input \u001b[1;32mIn [43]\u001b[0m, in \u001b[0;36m<cell line: 1>\u001b[1;34m()\u001b[0m\n\u001b[1;32m----> 1\u001b[0m \u001b[43mcoin2\u001b[49m\n",
      "\u001b[1;31mNameError\u001b[0m: name 'coin2' is not defined"
     ]
    }
   ],
   "source": [
    "coin2"
   ]
  },
  {
   "cell_type": "code",
   "execution_count": null,
   "id": "09b2489a",
   "metadata": {},
   "outputs": [],
   "source": [
    "#The same shows for coin 2\n",
    "\n",
    "#Our coin, has been cleaned, rusted, flipped, it can be rare and it can be spent"
   ]
  }
 ],
 "metadata": {
  "kernelspec": {
   "display_name": "Python 3 (ipykernel)",
   "language": "python",
   "name": "python3"
  },
  "language_info": {
   "codemirror_mode": {
    "name": "ipython",
    "version": 3
   },
   "file_extension": ".py",
   "mimetype": "text/x-python",
   "name": "python",
   "nbconvert_exporter": "python",
   "pygments_lexer": "ipython3",
   "version": "3.9.12"
  }
 },
 "nbformat": 4,
 "nbformat_minor": 5
}
