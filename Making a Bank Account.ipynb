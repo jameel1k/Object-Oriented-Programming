{
 "cells": [
  {
   "cell_type": "code",
   "execution_count": 15,
   "id": "dc7a2eba",
   "metadata": {},
   "outputs": [],
   "source": [
    "#I will make two types of account, a current account and a savings account. \n",
    "#Each account, you can withraw and deposit money and print an account statement. \n",
    "#Each account will have different limits, such as the current account will have an overdraft facility. \n",
    "\n",
    "#This will use further examples of OOP(object oriented programming)\n",
    "#I will first create the abstract parent class, with a simple constructor.\n",
    "\n",
    "class Account:\n",
    "    def __init__(self, name, balance, min_balance):\n",
    "        self.name= name\n",
    "        self.balance= balance\n",
    "        self.min_balance= min_balance\n",
    "        \n",
    "    def deposit(self, amount):\n",
    "        self.balance += amount\n",
    "    \n",
    "    def withdraw(self, amount):\n",
    "        if self.balance - amount >= self.min_balance:\n",
    "            self.balance -= amount\n",
    "        else:\n",
    "            print(\"Sorry you do not have enough funds\")\n",
    "    \n",
    "    def statement(self):\n",
    "        print(\"Account Balance: £{}\".format(self.balance))\n",
    "\n",
    "#Next I will make the current account and get this to inherit from the class account above. \n",
    "#self, name, balance are the parameters to create a current account\n",
    "\n",
    "class Current(Account):\n",
    "    def __init__(self, name, balance):\n",
    "        super().__init__(name, balance, min_balance = -1000)\n",
    "\n",
    "#I will add a string fuction, to tidy this up.  \n",
    "\n",
    "    def __str__(self):\n",
    "        return \"{}'s Current Account : Balance £{}\".format(self.name, self.balance)\n",
    "\n",
    "#adding savings account     \n",
    "\n",
    "class Savings(Account):\n",
    "    def __init__(self, name, balance):\n",
    "        super().__init__(name, balance, min_balance = 0)\n",
    "    \n",
    "    def __str__(self):\n",
    "        return \"{}'s Savings Account : Balance £{}\".format(self.name, self.balance)"
   ]
  },
  {
   "cell_type": "code",
   "execution_count": 3,
   "id": "4a958fc1",
   "metadata": {},
   "outputs": [
    {
     "name": "stdout",
     "output_type": "stream",
     "text": [
      "Account Balance: £800\n"
     ]
    }
   ],
   "source": [
    "Z= Current(\"Tom\", 500)\n",
    "Z.deposit(300)\n",
    "Z.statement()"
   ]
  },
  {
   "cell_type": "code",
   "execution_count": null,
   "id": "9930e4da",
   "metadata": {},
   "outputs": [],
   "source": [
    "#Shows current account with depoit and balance working"
   ]
  },
  {
   "cell_type": "code",
   "execution_count": 4,
   "id": "28ba3b3f",
   "metadata": {},
   "outputs": [
    {
     "name": "stdout",
     "output_type": "stream",
     "text": [
      "Account Balance: £-200\n"
     ]
    }
   ],
   "source": [
    "Z.withdraw(1000)\n",
    "Z.statement()"
   ]
  },
  {
   "cell_type": "code",
   "execution_count": 7,
   "id": "fba3169a",
   "metadata": {},
   "outputs": [
    {
     "name": "stdout",
     "output_type": "stream",
     "text": [
      "Account Balance: £0\n"
     ]
    }
   ],
   "source": [
    "#Overdraft facility is working\n",
    "Z.withdraw(800)\n",
    "Z.statement()"
   ]
  },
  {
   "cell_type": "code",
   "execution_count": 9,
   "id": "7033caec",
   "metadata": {},
   "outputs": [
    {
     "name": "stdout",
     "output_type": "stream",
     "text": [
      "Sorry you do not have enough funds\n",
      "Account Balance: £-100\n"
     ]
    }
   ],
   "source": [
    "Z.withdraw(1000)\n",
    "Z.statement()"
   ]
  },
  {
   "cell_type": "code",
   "execution_count": null,
   "id": "b1d5d347",
   "metadata": {},
   "outputs": [],
   "source": [
    "#Current shows working accountly"
   ]
  },
  {
   "cell_type": "code",
   "execution_count": 10,
   "id": "195c0ddf",
   "metadata": {},
   "outputs": [
    {
     "name": "stdout",
     "output_type": "stream",
     "text": [
      "<__main__.Current object at 0x00000198F9CC38E0>\n"
     ]
    }
   ],
   "source": [
    "print(Z)"
   ]
  },
  {
   "cell_type": "code",
   "execution_count": 14,
   "id": "6d9a9c9c",
   "metadata": {},
   "outputs": [
    {
     "name": "stdout",
     "output_type": "stream",
     "text": [
      "Tom's Current Account : Balance £500\n"
     ]
    }
   ],
   "source": [
    "Z= Current(\"Tom\", 500)\n",
    "print(Z)"
   ]
  },
  {
   "cell_type": "code",
   "execution_count": 16,
   "id": "602364d3",
   "metadata": {},
   "outputs": [
    {
     "name": "stdout",
     "output_type": "stream",
     "text": [
      "Amber's Savings Account : Balance £300\n"
     ]
    }
   ],
   "source": [
    "Z= Current(\"Tom\", 500)\n",
    "A= Savings(\"Amber\", 300)\n",
    "print(A)"
   ]
  },
  {
   "cell_type": "code",
   "execution_count": 17,
   "id": "2c545ca3",
   "metadata": {},
   "outputs": [
    {
     "name": "stdout",
     "output_type": "stream",
     "text": [
      "Account Balance: £0\n"
     ]
    }
   ],
   "source": [
    "A.withdraw(300)\n",
    "A.statement()"
   ]
  },
  {
   "cell_type": "code",
   "execution_count": 18,
   "id": "8fcc70af",
   "metadata": {},
   "outputs": [
    {
     "name": "stdout",
     "output_type": "stream",
     "text": [
      "Sorry you do not have enough funds\n"
     ]
    }
   ],
   "source": [
    "A.withdraw(1)"
   ]
  },
  {
   "cell_type": "code",
   "execution_count": 19,
   "id": "b74ae72c",
   "metadata": {},
   "outputs": [
    {
     "name": "stdout",
     "output_type": "stream",
     "text": [
      "Tom's Current Account : Balance £500\n"
     ]
    }
   ],
   "source": [
    "print(Z)"
   ]
  },
  {
   "cell_type": "code",
   "execution_count": 20,
   "id": "8de25b70",
   "metadata": {},
   "outputs": [
    {
     "name": "stdout",
     "output_type": "stream",
     "text": [
      "Account Balance: £-1000\n"
     ]
    }
   ],
   "source": [
    "Z.withdraw(1500)\n",
    "Z.statement()"
   ]
  },
  {
   "cell_type": "code",
   "execution_count": 21,
   "id": "084c58e5",
   "metadata": {},
   "outputs": [
    {
     "name": "stdout",
     "output_type": "stream",
     "text": [
      "Sorry you do not have enough funds\n"
     ]
    }
   ],
   "source": [
    "Z.withdraw(1)"
   ]
  },
  {
   "cell_type": "code",
   "execution_count": null,
   "id": "407dd82d",
   "metadata": {},
   "outputs": [],
   "source": [
    "#Recap: \n",
    "#-Classes are templates for objects.\n",
    "#-Objects have states and methods\n",
    "#-In order to have class methods, you need the Python constructor _ _init_ _ (self)\n",
    "#-We used a destrcuctor to spend coins, this is used to delete a class _ _ del _ _ (self)\n",
    "#-"
   ]
  }
 ],
 "metadata": {
  "kernelspec": {
   "display_name": "Python 3 (ipykernel)",
   "language": "python",
   "name": "python3"
  },
  "language_info": {
   "codemirror_mode": {
    "name": "ipython",
    "version": 3
   },
   "file_extension": ".py",
   "mimetype": "text/x-python",
   "name": "python",
   "nbconvert_exporter": "python",
   "pygments_lexer": "ipython3",
   "version": "3.9.12"
  }
 },
 "nbformat": 4,
 "nbformat_minor": 5
}
